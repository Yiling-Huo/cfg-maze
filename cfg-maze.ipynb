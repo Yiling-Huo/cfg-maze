{
  "cells": [
    {
      "cell_type": "markdown",
      "metadata": {
        "id": "MAkU3sTVnMu8"
      },
      "source": [
        "*Dear Andrew: this console version is adapted from the program version. With pygame a lot of the times I cannot write functions with arguments (because the name of the function has to be an argument of another function, and in this case somehow pygame doesn't allow any arguments to be passed). As a results I had to use 'global' a lot instead of making my functions take arguments. So you'll see a lot of 'global's as well here, but it's just that I'm too dumb to adjust everything...*\n",
        "\n",
        "# The CFG Maze Game\n",
        "\n",
        "## What is the Maze task?\n",
        "\n",
        "The Maze Task is an experimental task used by many psycholinguists. In this task, the participant follows a sentence through a \"maze\". They will see two words at a time, and one of the words will be the correct word that continues the sentence. The participant will only reach the end of the sentence by selecting the correct word at each step.\n",
        "\n",
        "For example, for the sentence 'The rain fell silently', the participant may see something like this:\n",
        "\n",
        "![Example maze task presentation from https://www.u.arizona.edu/~kforster/MAZE/how_it_works.htm](assets/example-maze-task.gif)\n",
        "\n",
        "This task forces the reader into an incremental mode of processing in which each word must be fully integrated with the preceding context before the next word can be considered. Psycholinguists usually measure the reaction time needed to make the correct selection, which is associated with the difficulty of integrating the word with the previous words (the context).\n",
        "\n",
        "## The Maze task as a game\n",
        "\n",
        "Psycholinguists use the maze task to study human sentence processing, but as you can see, for participants in the maze task, there is a goal (to get to the correct sentence) and there is a challenge (to avoid the wrong choice), so it can be something like a game.\n",
        "\n",
        "## A CFG Maze game\n",
        "\n",
        "We just learned how to use CFG to generate sentences in Python. We can use that to generate trials in the Maze task. Because the sentences we generate from CFG don't have the 'points of processing difficulty' that psycholinguists study, so we can simply make it a small game (instead of a proper experiment that answers a research question).\n",
        "\n",
        "### Modify generate() to return both the sentence and the alternative option at each position\n",
        "\n",
        "Remember in a maze task, at each word, the participant sees two options, one is correct, the other is not. We can modify generate() to give us both the sentence (the correct options) and the alternatives (the incorrect options).\n",
        "\n",
        "First let's consider what should be the alternative (incorrect) option? It has to be incorrect, so let's just say in the context of CFG, it cannot be a grammatical continuation of the last word. This means that the correct option needs to block all words that belong to the same node as the correct option, or any nodes that occupy the same syntactic position as the correct option's node. This is what's in `block_list`."
      ]
    },
    {
      "cell_type": "code",
      "execution_count": 1,
      "metadata": {
        "id": "nNOXY1DznMvA"
      },
      "outputs": [],
      "source": [
        "import random\n",
        "\n",
        "# our cfg dictionary\n",
        "cfg = {\"NP\":[[\"D\",\"N\"],\"cats\",\"dogs\"],\"VP\":[[\"V\",\"NP\"],\"walk\",\"sleep\"],\"S\":[[\"NP\",\"VP\"]],\"D\":[\"the\",\"a\"],\"N\":[\"cat\",\"dog\"],\"V\":[\"love\",\"tolerate\"]}\n",
        "\n",
        "# block_list has nodes as keys, and as values, a list of nodes that are identical to the key or occupy the same syntactic position as the key\n",
        "block_list = {'NP':['NP','N','D'], 'N':['N','NP'], 'VP':['VP', 'V'], 'V':['V', 'VP'], 'D':['D']}"
      ]
    },
    {
      "cell_type": "markdown",
      "metadata": {
        "id": "IqLbw6PCnMvC"
      },
      "source": [
        "Next, let's modify the generate() function. We make it return a list of [correct, wrong, correct, wrong] for the randomly generated sentence."
      ]
    },
    {
      "cell_type": "code",
      "execution_count": 2,
      "metadata": {
        "id": "_6PwN2PZnMvC"
      },
      "outputs": [],
      "source": [
        "def generate(cfg, node='S'):\n",
        "    expansion = random.choice(cfg[node])\n",
        "    if type(expansion) == list:\n",
        "        return generate(cfg, expansion[0]) + generate(cfg, expansion[1])\n",
        "    elif type(expansion) == str:\n",
        "        # block the node that makes sense after the current node\n",
        "        blocked_nodes = block_list[node]\n",
        "        # get a dictionary of nodes:words that are not in blocked nodes\n",
        "        option_pool = {key:cfg[key] for key in [i for i in list(cfg.keys()) if i not in blocked_nodes]}\n",
        "        # get a list of options to choose from from the values of option_pool that are strings, but only if the element is a string (only if it's a word, not a list of nodes)\n",
        "        options = [x for lis in list(option_pool.values()) for x in lis if type(x) == str]\n",
        "        option = random.choice(options)\n",
        "        return [expansion, option]"
      ]
    },
    {
      "cell_type": "markdown",
      "metadata": {
        "id": "sVFNzfL3nMvC"
      },
      "source": [
        "### Make the game\n",
        "\n",
        "Now we can make the game!\n",
        "\n",
        "Think about what the game does. First it should randomly generate a sentence, and print the first word as well as two options for the second word. Then the game needs to ask the player for a selection, and check whether that selection is correct. If the selection is correct, the game moves on to the next word, such that the first two words are printed, and the options for the third word is shown.... If the selection is wrong, the player has lost this round. If the player gets to the end of the sentence making all correct choices, then the player wins.\n",
        "\n",
        "For me, I've broken down what the game needs to do into a few different functions: a function that generates the sentence, one that prints the current sentence and the options, one that asks the player for a selection, and one main game function that brings everything together.\n",
        "\n",
        "Let's call the first function getSentence(). This needs to generate a sentence using generate(), and we also ask it to parse the list returned by generate() so it looks nicer."
      ]
    },
    {
      "cell_type": "code",
      "execution_count": 3,
      "metadata": {
        "id": "dJug8UJTnMvD"
      },
      "outputs": [],
      "source": [
        "def getSentence():\n",
        "    # global sents the variables to the global environment (outside the function), because we'll need these in other functions as well\n",
        "    # sentence records the generated sentence\n",
        "    # selected records what correct choices the player has selected\n",
        "    # current_location records which words we're at in the sentence, in this function we just initialise it.\n",
        "    global sentence, selected, current_location\n",
        "    # get a flat sentence list first\n",
        "    sentence_flat = generate(cfg)\n",
        "    # then parse the flat sentence into a dictionary of location:options\n",
        "    sentence = {i:[sentence_flat[i*2], sentence_flat[(i*2)+1]] for i in range(int(len(sentence_flat)/2))}\n",
        "    # record the first correct word (which we just show the player) in selected\n",
        "    selected = [sentence[0][0]]\n",
        "    current_location = 1\n",
        "    # # then get the options for the current location in the sentence\n",
        "    # options = scramble_options(sentence, current_location)\n",
        "\n"
      ]
    },
    {
      "cell_type": "markdown",
      "metadata": {
        "id": "n4OGeANEnMvD"
      },
      "source": [
        "Next let's call this function printSentence(). It needs to do a few things:\n",
        "- print the words selected by the player that's correct.\n",
        "- get the options and scramble the options using scramble_options().\n",
        "- print the options."
      ]
    },
    {
      "cell_type": "code",
      "execution_count": 4,
      "metadata": {
        "id": "nhDChozKnMvD"
      },
      "outputs": [],
      "source": [
        "# First we need a function to scramble the options (so that the correct option is not always the left one...)\n",
        "def scramble_options(sentence, current_location):\n",
        "    # get options\n",
        "    options = sentence[current_location].copy()\n",
        "    # scramble the order of correct/incorrect options\n",
        "    random.shuffle(options)\n",
        "    return options\n",
        "\n",
        "def printSentence():\n",
        "    global sentence, options, current_location\n",
        "    print('----------')\n",
        "    # print the (incomplete) sentence\n",
        "    print(' '.join(selected))\n",
        "    # get new options\n",
        "    options = scramble_options(sentence, current_location)\n",
        "    # print the options\n",
        "    print('  '+options[0]+'        '+options[1])"
      ]
    },
    {
      "cell_type": "markdown",
      "metadata": {
        "id": "zuaqxm9inMvE"
      },
      "source": [
        "We need a function to allow the player to make a choice. Let's call this getChoice(). This function simply returns a number (1 for the left word, 2 for the right word), and we'll check whether the choice is correct later."
      ]
    },
    {
      "cell_type": "code",
      "execution_count": 5,
      "metadata": {
        "id": "zkzg1ub5nMvE"
      },
      "outputs": [],
      "source": [
        "def getChoice():\n",
        "  while True:\n",
        "    try:\n",
        "      choice = int(input('Which one do you choose?'))\n",
        "      if choice in [1,2]:\n",
        "        return choice\n",
        "      else:\n",
        "        print('Enter 1 for the left option, 2 for the right option.')\n",
        "    except ValueError:\n",
        "      print('Enter 1 for the left option, 2 for the right option.')"
      ]
    },
    {
      "cell_type": "markdown",
      "metadata": {
        "id": "LBWQuaGSnMvE"
      },
      "source": [
        "Now we have everything we need and we can work on the main game function. Here's what it does:\n",
        "\n",
        "- first print some welcome instructions.\n",
        "- let's make one game have five sentences. So for trial numbers 1 to 5:\n",
        "    - get a randomly generated sentence and print it\n",
        "    - for each word in that sentence:\n",
        "        - get the players choice\n",
        "        - check if the players choice is correct.\n",
        "            - if so, add the correct choice to the presentation of sentences and present options for the next word; and if we've reached the end of the sentence, print congratulations and print the player's score.\n",
        "            - if not, end the trial immediately after printing a message and the player's score.\n",
        "- when all 5 trials have finished, print the player's score and exit."
      ]
    },
    {
      "cell_type": "code",
      "execution_count": 6,
      "metadata": {
        "id": "CRaiLW4ynMvF"
      },
      "outputs": [],
      "source": [
        "def main():\n",
        "    global sentence, options, current_location\n",
        "    print('Welcome to the CFG Maze game!')\n",
        "    print('Please select the option that makes the sentence grammatical.')\n",
        "    print('Enter 1 for the left option, 2 for the right option.')\n",
        "    correct_count = 0\n",
        "    for i in range(5):\n",
        "        getSentence()\n",
        "        printSentence()\n",
        "        current_location = 1\n",
        "        for j in range(len(sentence)):\n",
        "            choice = getChoice()\n",
        "            # if correct choice\n",
        "            if options[choice-1] == sentence[current_location][0]:\n",
        "                # if we're at the end of a sentence\n",
        "                if current_location == len(sentence)-1:\n",
        "                    selected.append(sentence[current_location][0])\n",
        "                    correct_count += 1\n",
        "                    print('----------')\n",
        "                    # print the correct sentence\n",
        "                    print(' '.join([sentence[i][0] for i in range(len(sentence))]))\n",
        "                    print('Congrats!')\n",
        "                    print('Your score: '+str(correct_count)+'/5')\n",
        "                    break\n",
        "                else:\n",
        "                    selected.append(sentence[current_location][0])\n",
        "                    current_location += 1\n",
        "                    printSentence()\n",
        "            # if not correct choice\n",
        "            else:\n",
        "                print('----------')\n",
        "                print('Wrong...')\n",
        "                print('Answer: '+' '.join([sentence[i][0] for i in range(len(sentence))]))\n",
        "                print('Your score: '+str(correct_count)+'/5')\n",
        "                break\n",
        "    print('Game end!')\n",
        "    print('Your score: '+str(correct_count)+'/5')"
      ]
    },
    {
      "cell_type": "markdown",
      "metadata": {
        "id": "lK_vZYslnMvF"
      },
      "source": [
        "The following code allows main() to be run when you execute the .py file as a script."
      ]
    },
    {
      "cell_type": "code",
      "execution_count": 8,
      "metadata": {
        "colab": {
          "base_uri": "https://localhost:8080/"
        },
        "id": "YZvtJirxnMvF",
        "outputId": "e1983a2a-0c0d-436a-89f9-f16ab37f77a3"
      },
      "outputs": [
        {
          "output_type": "stream",
          "name": "stdout",
          "text": [
            "Welcome to the CFG Maze game!\n",
            "Please select the option that makes the sentence grammatical.\n",
            "Enter 1 for the left option, 2 for the right option.\n",
            "----------\n",
            "dogs\n",
            "  the        walk\n",
            "Which one do you choose?2\n",
            "----------\n",
            "dogs walk\n",
            "Congrats!\n",
            "Your score: 1/5\n",
            "----------\n",
            "the\n",
            "  dog        a\n",
            "Which one do you choose?1\n",
            "----------\n",
            "the dog\n",
            "  cat        tolerate\n",
            "Which one do you choose?1\n",
            "----------\n",
            "Wrong...\n",
            "Answer: the dog tolerate cats\n",
            "Your score: 1/5\n",
            "----------\n",
            "the\n",
            "  cat        sleep\n",
            "Which one do you choose?1\n",
            "----------\n",
            "the cat\n",
            "  dogs        walk\n",
            "Which one do you choose?2\n",
            "----------\n",
            "the cat walk\n",
            "Congrats!\n",
            "Your score: 2/5\n",
            "----------\n",
            "cats\n",
            "  love        cat\n",
            "Which one do you choose?1\n",
            "----------\n",
            "cats love\n",
            "  the        walk\n",
            "Which one do you choose?1\n",
            "----------\n",
            "cats love the\n",
            "  cat        walk\n",
            "Which one do you choose?1\n",
            "----------\n",
            "cats love the cat\n",
            "Congrats!\n",
            "Your score: 3/5\n",
            "----------\n",
            "a\n",
            "  dog        the\n",
            "Which one do you choose?2\n",
            "----------\n",
            "Wrong...\n",
            "Answer: a dog sleep\n",
            "Your score: 3/5\n",
            "Game end!\n",
            "Your score: 3/5\n"
          ]
        }
      ],
      "source": [
        "if __name__ == \"__main__\":\n",
        "    main()"
      ]
    }
  ],
  "metadata": {
    "kernelspec": {
      "display_name": "Python 3",
      "language": "python",
      "name": "python3"
    },
    "language_info": {
      "codemirror_mode": {
        "name": "ipython",
        "version": 3
      },
      "file_extension": ".py",
      "mimetype": "text/x-python",
      "name": "python",
      "nbconvert_exporter": "python",
      "pygments_lexer": "ipython3",
      "version": "3.10.2"
    },
    "colab": {
      "provenance": []
    }
  },
  "nbformat": 4,
  "nbformat_minor": 0
}