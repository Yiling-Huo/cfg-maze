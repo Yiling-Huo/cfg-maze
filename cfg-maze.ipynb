{
 "cells": [
  {
   "cell_type": "markdown",
   "metadata": {},
   "source": [
    "# The CFG Maze Game\n",
    "\n",
    "## What is the Maze task?\n",
    "\n",
    "The Maze Task is an experimental task used by many psycholinguists. In this task, the participant follows a sentence through a \"maze\". They will see two words at a time, and one of the words will be the correct word that continues the sentence. The participant will only reach the end of the sentence by selecting the correct word at each step. \n",
    "\n",
    "For example, for the sentence 'The rain fell silently', the participant may see something like this:\n",
    "\n",
    "![Example maze task presentation from https://www.u.arizona.edu/~kforster/MAZE/how_it_works.htm](assets/example-maze-task.gif)\n",
    "\n",
    "This task forces the reader into an incremental mode of processing in which each word must be fully integrated with the preceding context before the next word can be considered. Psycholinguists usually measure the reaction time needed to make the correct selection, which is associated with the difficulty of integrating the word with the previous words (the context). \n",
    "\n",
    "## The Maze task as a game\n",
    "\n",
    "Psycholinguists use the maze task to study human sentence processing, but as you can see, for participants in the maze task, there is a goal (to get to the correct sentence) and there is a challenge (to avoid the wrong choice), so it can be something like a game. \n",
    "\n",
    "## A CFG Maze game\n",
    "\n",
    "We just learned how to use CFG to generate sentences in Python. We can use that to generate trials in the Maze task. Because the sentences we generate from CFG don't have the 'points of processing difficulty' that psycholinguists study, so we can simply make it a small game (instead of a proper experiment that answers a research question). \n",
    "\n",
    "### Modify generate() to return both the sentence and the alternative option at each position\n",
    "\n",
    "Remember in a maze task, at each word, the participant sees two options, one is correct, the other is not. We can modify generate() to give us both the sentence (the correct options) and the alternatives (the incorrect options). \n",
    "\n",
    "First let's consider what should be the alternative (incorrect) option? It has to be incorrect, so let's just say in the context of CFG, it cannot be a grammatical continuation of the last word. This means that the correct option needs to block all words that belong to the same node as the correct option, or any nodes that occupy the same syntactic position as the correct option's node. This is what's in `block_list`. "
   ]
  },
  {
   "cell_type": "code",
   "execution_count": 4,
   "metadata": {},
   "outputs": [],
   "source": [
    "import random\n",
    "\n",
    "# our cfg dictionary\n",
    "cfg = {\"NP\":[[\"D\",\"N\"],\"cats\",\"dogs\"],\"VP\":[[\"V\",\"NP\"],\"walk\",\"sleep\"],\"S\":[[\"NP\",\"VP\"]],\"D\":[\"the\",\"a\"],\"N\":[\"cat\",\"dog\"],\"V\":[\"love\",\"tolerate\"]}\n",
    "\n",
    "# block_list has nodes as keys, and as values, a list of nodes that are identical to the key or occupy the same syntactic position as the key\n",
    "block_list = {'NP':['NP','N'], 'N':['N','NP'], 'VP':['VP', 'V'], 'V':['V', 'VP'], 'D':['D']}"
   ]
  },
  {
   "cell_type": "markdown",
   "metadata": {},
   "source": [
    "Next, let's modify the generate() function. We make it return a list of [correct, wrong, correct, wrong] for the randomly generated sentence. "
   ]
  },
  {
   "cell_type": "code",
   "execution_count": null,
   "metadata": {},
   "outputs": [],
   "source": [
    "def generate(cfg, node='S'):\n",
    "    expansion = random.choice(cfg[node])\n",
    "    if type(expansion) == list:\n",
    "        return generate(cfg, expansion[0]) + generate(cfg, expansion[1])\n",
    "    elif type(expansion) == str:\n",
    "        # block the node that makes sense after the current node\n",
    "        blocked_nodes = block_list[node]\n",
    "        # get a dictionary of nodes:words that are not in blocked nodes\n",
    "        option_pool = {key:cfg[key] for key in [i for i in list(cfg.keys()) if i not in blocked_nodes]}\n",
    "        # get a list of options to choose from from the values of option_pool that are strings, but only if the element is a string (only if it's a word, not a list of nodes)\n",
    "        options = [x for lis in list(option_pool.values()) for x in lis if type(x) == str]\n",
    "        option = random.choice(options)\n",
    "        return [expansion, option]"
   ]
  },
  {
   "cell_type": "markdown",
   "metadata": {},
   "source": [
    "### Make the game\n",
    "\n",
    "Now we can make the game! \n",
    "\n",
    "Think about what functions the game needs. First it needs a function to print the current sentence (whatever have been selected by the player) and the two options, and asks the player for a selection. We need a function to do something when the player selects the correct option, and a function that does something when the player selects the wrong option. \n",
    "\n",
    "Let's call the first funtion getSentence(). This needs to generate a sentence using generate(), and we also ask it to parse the list returned by generate() so it looks nicer."
   ]
  },
  {
   "cell_type": "code",
   "execution_count": null,
   "metadata": {},
   "outputs": [],
   "source": [
    "def getSentence():\n",
    "    # global sents the variables to the global environment (outside the function), because we'll need these in other functions as well\n",
    "    # sentence records the generated sentence\n",
    "    # selected records what correct choices the player has selected\n",
    "    # current_location records which words we're at in the sentence, in this function we just initialise it. \n",
    "    global sentence, selected, current_location\n",
    "    # get a flat sentence list first\n",
    "    sentence_flat = generate(cfg)\n",
    "    # then parse the flat sentence into a dictionary of location:options\n",
    "    sentence = {i:[sentence_flat[i*2], sentence_flat[(i*2)+1]] for i in range(int(len(sentence_flat)/2))}\n",
    "    # record the first correct word (which we just show the player) in selected\n",
    "    selected = [sentence[0][0]]\n",
    "    current_location = 1\n",
    "    # then get the options for the current location in the sentence\n",
    "    scramble_options(current_location)\n",
    "\n",
    "# Next, we need a function to scramble the options (so that the correct option is not always the left one...)\n",
    "def scramble_options(current_location):\n",
    "    global sentence, options\n",
    "    # get options\n",
    "    options = sentence[current_location].copy()\n",
    "    # scramble the order of correct/incorrect options\n",
    "    random.shuffle(options)"
   ]
  },
  {
   "cell_type": "markdown",
   "metadata": {},
   "source": [
    "Next let's call this function printSentence(). It needs to do a few things:\n",
    "- print the words selected by the player that's correct."
   ]
  },
  {
   "cell_type": "code",
   "execution_count": null,
   "metadata": {},
   "outputs": [],
   "source": [
    "def printSentence():\n",
    "    global sentence\n",
    "    print('----------')\n",
    "    # print the (incomplete) sentence\n",
    "    print(' '.join(selected))\n",
    "    # print the options\n",
    "    print('  '+options[0]+'        '+options[1])\n",
    "    # ask for the input"
   ]
  },
  {
   "cell_type": "code",
   "execution_count": null,
   "metadata": {},
   "outputs": [],
   "source": [
    "def getChoice():\n",
    "  while True:\n",
    "    try:\n",
    "      choice = int(input('Which one do you choose?'))\n",
    "      if choice in [1,2]:\n",
    "        return choice\n",
    "      else:\n",
    "        print('Enter 1 for the left option, 2 for the right option.')\n",
    "    except ValueError:\n",
    "      print('Enter 1 for the left option, 2 for the right option.')"
   ]
  },
  {
   "cell_type": "code",
   "execution_count": null,
   "metadata": {},
   "outputs": [],
   "source": [
    "def main():\n",
    "    print('Welcome to the CFG Maze game!')\n",
    "    print('Please select the option that makes the sentence grammatical.')\n",
    "    printSentence()\n",
    "    choice = getChoice()"
   ]
  },
  {
   "cell_type": "code",
   "execution_count": 7,
   "metadata": {},
   "outputs": [
    {
     "name": "stdout",
     "output_type": "stream",
     "text": [
      "{0: ['cats', 'tolerate'], 1: ['love', 'a'], 2: ['cats', 'a']}\n"
     ]
    }
   ],
   "source": [
    "sentence_flat = generate(cfg)\n",
    "sentence = {i:[sentence_flat[i*2], sentence_flat[(i*2)+1]] for i in range(int(len(sentence_flat)/2))}\n",
    "\n",
    "print(sentence)"
   ]
  }
 ],
 "metadata": {
  "kernelspec": {
   "display_name": "Python 3",
   "language": "python",
   "name": "python3"
  },
  "language_info": {
   "codemirror_mode": {
    "name": "ipython",
    "version": 3
   },
   "file_extension": ".py",
   "mimetype": "text/x-python",
   "name": "python",
   "nbconvert_exporter": "python",
   "pygments_lexer": "ipython3",
   "version": "3.10.2"
  }
 },
 "nbformat": 4,
 "nbformat_minor": 2
}
